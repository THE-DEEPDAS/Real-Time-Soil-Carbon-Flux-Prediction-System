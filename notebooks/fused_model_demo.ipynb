{
 "cells": [
  {
   "cell_type": "markdown",
   "id": "426c5af3",
   "metadata": {},
   "source": [
    "# Soil Bioinformatics ML - Fused Model Demo\n",
    "\n",
    "This notebook demonstrates how to combine sensor data with nanopore sequencing data using our fused model approach."
   ]
  },
  {
   "cell_type": "code",
   "execution_count": null,
   "id": "5b83f200",
   "metadata": {},
   "outputs": [],
   "source": [
    "import sys\n",
    "import os\n",
    "sys.path.append('../src')\n",
    "\n",
    "import numpy as np\n",
    "import pandas as pd\n",
    "import matplotlib.pyplot as plt\n",
    "from data_pipeline.sensor_simulator import SensorSimulator\n",
    "from preprocessing.data_processor import DataProcessor\n",
    "from training.fused_model import FusedModelTrainer"
   ]
  },
  {
   "cell_type": "markdown",
   "id": "8c5e2ff3",
   "metadata": {},
   "source": [
    "## Generate Simulated Data\n",
    "\n",
    "For this demo, we'll generate both sensor data and simulated nanopore data"
   ]
  },
  {
   "cell_type": "code",
   "execution_count": null,
   "id": "23612a70",
   "metadata": {},
   "outputs": [],
   "source": [
    "# Initialize simulators\n",
    "config_path = \"../configs/simulation_config.yaml\"\n",
    "sensor_simulator = SensorSimulator(config_path)\n",
    "\n",
    "# Generate sensor data\n",
    "sensor_data = sensor_simulator.generate_sensor_data(duration_hours=24)\n",
    "\n",
    "# Simulate nanopore data (random sequences for demonstration)\n",
    "def simulate_nanopore_data(num_samples, sequence_length=4000):\n",
    "    # Simulate simple synthetic nanopore signals\n",
    "    data = np.random.normal(0, 1, (num_samples, 1, sequence_length))\n",
    "    # Add some pattern\n",
    "    for i in range(num_samples):\n",
    "        pos = np.random.randint(0, sequence_length-100)\n",
    "        data[i, 0, pos:pos+100] += np.sin(np.linspace(0, 2*np.pi, 100))\n",
    "    return data\n",
    "\n",
    "nanopore_data = simulate_nanopore_data(len(sensor_data))"
   ]
  },
  {
   "cell_type": "markdown",
   "id": "602b980f",
   "metadata": {},
   "source": [
    "## Visualize Both Data Types"
   ]
  },
  {
   "cell_type": "code",
   "execution_count": null,
   "id": "48401b56",
   "metadata": {},
   "outputs": [],
   "source": [
    "plt.figure(figsize=(15, 10))\n",
    "\n",
    "# Plot sensor data\n",
    "plt.subplot(2, 1, 1)\n",
    "plt.plot(sensor_data['timestamp'], sensor_data['co2_ppm'], label='CO2')\n",
    "plt.plot(sensor_data['timestamp'], sensor_data['moisture_percent'], label='Moisture')\n",
    "plt.plot(sensor_data['timestamp'], sensor_data['ph'], label='pH')\n",
    "plt.title('Sensor Data')\n",
    "plt.legend()\n",
    "\n",
    "# Plot example nanopore signal\n",
    "plt.subplot(2, 1, 2)\n",
    "plt.plot(nanopore_data[0, 0, :1000])\n",
    "plt.title('Example Nanopore Signal (first 1000 points)')\n",
    "\n",
    "plt.tight_layout()\n",
    "plt.show()"
   ]
  },
  {
   "cell_type": "markdown",
   "id": "4b56a569",
   "metadata": {},
   "source": [
    "## Prepare Data for Fused Model"
   ]
  },
  {
   "cell_type": "code",
   "execution_count": null,
   "id": "039b4d99",
   "metadata": {},
   "outputs": [],
   "source": [
    "# Process sensor data\n",
    "processor = DataProcessor(config_path)\n",
    "sensor_sequences, sensor_labels = processor.process_sensor_data(\"../data/raw/sensor_data.csv\")\n",
    "\n",
    "# Prepare matching nanopore data\n",
    "nanopore_sequences = nanopore_data[:len(sensor_sequences)]\n",
    "\n",
    "print(f\"Prepared {len(sensor_sequences)} sequences for training\")"
   ]
  },
  {
   "cell_type": "markdown",
   "id": "27efbd3a",
   "metadata": {},
   "source": [
    "## Train Fused Model"
   ]
  },
  {
   "cell_type": "code",
   "execution_count": null,
   "id": "40051cf4",
   "metadata": {},
   "outputs": [],
   "source": [
    "# Initialize and train fused model\n",
    "fused_trainer = FusedModelTrainer(config_path)\n",
    "fused_trainer.train(\n",
    "    time_series_data=sensor_sequences,\n",
    "    nanopore_data=nanopore_sequences,\n",
    "    labels=sensor_labels,\n",
    "    epochs=50\n",
    ")\n",
    "\n",
    "# Save the trained model\n",
    "fused_trainer.save_model(\"../models/fused_model/fused_model.pth\")"
   ]
  },
  {
   "cell_type": "markdown",
   "id": "a354b891",
   "metadata": {},
   "source": [
    "## Make Predictions with Fused Model"
   ]
  },
  {
   "cell_type": "code",
   "execution_count": null,
   "id": "8ac31c2f",
   "metadata": {},
   "outputs": [],
   "source": [
    "# Generate test data\n",
    "test_sensor_data = sensor_simulator.generate_sensor_data(duration_hours=2)\n",
    "test_nanopore_data = simulate_nanopore_data(len(test_sensor_data))\n",
    "\n",
    "# Process test data\n",
    "test_sensor_sequences, _ = processor.process_sensor_data(\"../data/raw/test_sensor_data.csv\")\n",
    "test_nanopore_sequences = test_nanopore_data[:len(test_sensor_sequences)]\n",
    "\n",
    "# Make predictions\n",
    "predictions = []\n",
    "for i in range(len(test_sensor_sequences)):\n",
    "    pred = fused_trainer.predict(\n",
    "        test_sensor_sequences[i:i+1],\n",
    "        test_nanopore_sequences[i:i+1]\n",
    "    )\n",
    "    predictions.append(processor.inverse_transform_co2(pred)[0][0])\n",
    "\n",
    "# Plot results\n",
    "plt.figure(figsize=(10, 6))\n",
    "plt.plot(test_sensor_data['timestamp'][12:], predictions, label='Predicted CO2')\n",
    "plt.plot(test_sensor_data['timestamp'], test_sensor_data['co2_ppm'], label='Actual CO2')\n",
    "plt.title('Fused Model: CO2 Predictions vs Actual Values')\n",
    "plt.xlabel('Time')\n",
    "plt.ylabel('CO2 (ppm)')\n",
    "plt.legend()\n",
    "plt.show()"
   ]
  }
 ],
 "metadata": {
  "language_info": {
   "name": "python"
  }
 },
 "nbformat": 4,
 "nbformat_minor": 5
}
