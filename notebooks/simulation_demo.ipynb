{
 "cells": [
  {
   "cell_type": "markdown",
   "metadata": {},
   "source": [
    "# Soil Bioinformatics ML - Simulation Demo\n",
    "\n",
    "This notebook demonstrates the workflow of our soil sensor simulation and ML prediction system."
   ]
  },
  {
   "cell_type": "code",
   "execution_count": null,
   "metadata": {},
   "outputs": [],
   "source": [
    "import sys\n",
    "import os\n",
    "sys.path.append('../src')\n",
    "\n",
    "import numpy as np\n",
    "import pandas as pd\n",
    "import matplotlib.pyplot as plt\n",
    "from data_pipeline.sensor_simulator import SensorSimulator\n",
    "from preprocessing.data_processor import DataProcessor\n",
    "from training.model_trainer import ModelTrainer"
   ]
  }
 ],
 "metadata": {
  "language_info": {
   "name": "python"
  }
 },
 "nbformat": 4,
 "nbformat_minor": 5
}
