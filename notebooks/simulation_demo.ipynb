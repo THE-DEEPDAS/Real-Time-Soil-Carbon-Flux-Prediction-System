{
 "cells": [
  {
   "cell_type": "markdown",
   "id": "de345aa3",
   "metadata": {},
   "source": [
    "# Soil Bioinformatics ML - Simulation Demo\n",
    "\n",
    "This notebook demonstrates the workflow of our soil sensor simulation and ML prediction system."
   ]
  },
  {
   "cell_type": "code",
   "execution_count": null,
   "id": "097249fb",
   "metadata": {},
   "outputs": [],
   "source": [
    "import sys\n",
    "import os\n",
    "sys.path.append('../src')\n",
    "\n",
    "import numpy as np\n",
    "import pandas as pd\n",
    "import matplotlib.pyplot as plt\n",
    "from data_pipeline.sensor_simulator import SensorSimulator\n",
    "from preprocessing.data_processor import DataProcessor\n",
    "from training.model_trainer import ModelTrainer"
   ]
  },
  {
   "cell_type": "markdown",
   "id": "c5d697c5",
   "metadata": {},
   "source": [
    "## Generate Simulated Sensor Data"
   ]
  },
  {
   "cell_type": "code",
   "execution_count": null,
   "id": "8b38f7e0",
   "metadata": {},
   "outputs": [],
   "source": [
    "# Initialize simulator\n",
    "config_path = \"../configs/simulation_config.yaml\"\n",
    "simulator = SensorSimulator(config_path)\n",
    "\n",
    "# Generate 24 hours of data\n",
    "data = simulator.generate_sensor_data(duration_hours=24)\n",
    "data.head()"
   ]
  },
  {
   "cell_type": "markdown",
   "id": "6c1e7b6b",
   "metadata": {},
   "source": [
    "## Visualize Sensor Data"
   ]
  },
  {
   "cell_type": "code",
   "execution_count": null,
   "id": "4909b92c",
   "metadata": {},
   "outputs": [],
   "source": [
    "plt.figure(figsize=(15, 10))\n",
    "\n",
    "# Plot CO2\n",
    "plt.subplot(3, 1, 1)\n",
    "plt.plot(data['timestamp'], data['co2_ppm'])\n",
    "plt.title('CO2 Levels')\n",
    "plt.ylabel('PPM')\n",
    "\n",
    "# Plot pH\n",
    "plt.subplot(3, 1, 2)\n",
    "plt.plot(data['timestamp'], data['ph'])\n",
    "plt.title('pH Levels')\n",
    "plt.ylabel('pH')\n",
    "\n",
    "# Plot moisture\n",
    "plt.subplot(3, 1, 3)\n",
    "plt.plot(data['timestamp'], data['moisture_percent'])\n",
    "plt.title('Soil Moisture')\n",
    "plt.ylabel('%')\n",
    "\n",
    "plt.tight_layout()\n",
    "plt.show()"
   ]
  },
  {
   "cell_type": "markdown",
   "id": "8d5d5564",
   "metadata": {},
   "source": [
    "## Process Data and Train Model"
   ]
  },
  {
   "cell_type": "code",
   "execution_count": null,
   "id": "c0928be6",
   "metadata": {},
   "outputs": [],
   "source": [
    "# Save raw data\n",
    "simulator.save_data(data, \"../data/raw/training_data.csv\")\n",
    "\n",
    "# Process data\n",
    "processor = DataProcessor(config_path)\n",
    "sequences, labels = processor.process_sensor_data(\"../data/raw/training_data.csv\")\n",
    "\n",
    "print(f\"Created {len(sequences)} sequences of shape {sequences.shape}\")"
   ]
  },
  {
   "cell_type": "code",
   "execution_count": null,
   "id": "40836ae4",
   "metadata": {},
   "outputs": [],
   "source": [
    "# Train model\n",
    "trainer = ModelTrainer(config_path)\n",
    "trainer.train(sequences, labels, epochs=50)\n",
    "\n",
    "# Save model\n",
    "trainer.save_model(\"../models/time_series/model.pth\")"
   ]
  },
  {
   "cell_type": "markdown",
   "id": "037c5e75",
   "metadata": {},
   "source": [
    "## Make Predictions"
   ]
  },
  {
   "cell_type": "code",
   "execution_count": null,
   "id": "b215867c",
   "metadata": {},
   "outputs": [],
   "source": [
    "# Generate new test data\n",
    "test_data = simulator.generate_sensor_data(duration_hours=2)\n",
    "simulator.save_data(test_data, \"../data/raw/test_data.csv\")\n",
    "\n",
    "# Process test data\n",
    "test_sequences, _ = processor.process_sensor_data(\"../data/raw/test_data.csv\")\n",
    "\n",
    "# Make predictions\n",
    "predictions = []\n",
    "for sequence in test_sequences:\n",
    "    pred = trainer.predict(sequence)\n",
    "    predictions.append(processor.inverse_transform_co2(pred)[0][0])\n",
    "\n",
    "# Plot results\n",
    "plt.figure(figsize=(10, 6))\n",
    "plt.plot(test_data['timestamp'][12:], predictions, label='Predicted CO2')\n",
    "plt.plot(test_data['timestamp'], test_data['co2_ppm'], label='Actual CO2')\n",
    "plt.title('CO2 Predictions vs Actual Values')\n",
    "plt.xlabel('Time')\n",
    "plt.ylabel('CO2 (ppm)')\n",
    "plt.legend()\n",
    "plt.show()"
   ]
  }
 ],
 "metadata": {
  "language_info": {
   "name": "python"
  }
 },
 "nbformat": 4,
 "nbformat_minor": 5
}
